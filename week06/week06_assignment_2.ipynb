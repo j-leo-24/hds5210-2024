{
  "cells": [
    {
      "cell_type": "markdown",
      "metadata": {
        "nbgrader": {
          "grade": false,
          "grade_id": "intro",
          "locked": true,
          "schema_version": 1,
          "solution": false
        },
        "id": "5XUs4OraGlH_"
      },
      "source": [
        "# Week 6 Exercises\n",
        "\n",
        "_McKinney 6.1_\n",
        "\n",
        "There are multiple ways to solve the problems below.  You can use any one of several approaches.  For example, you can read CSV files using Pandas or the csv module.  Your score won't depend on which modules you choose to use unless explicitly noted below, but your programming style will still matter."
      ]
    },
    {
      "cell_type": "markdown",
      "metadata": {
        "nbgrader": {
          "grade": false,
          "grade_id": "q1-description",
          "locked": true,
          "schema_version": 1,
          "solution": false
        },
        "id": "XP_lsRYgGlIC"
      },
      "source": [
        "### 30.1 List of Allergies\n",
        "\n",
        "In the /data directory on the Jupyter server, there is a file called `allergies.json` that contains a list of patient allergies.  It is taken from sample data provided by the EHR vendor, Epic, here: https://open.epic.com/Clinical/Allergy\n",
        "\n",
        "Take some time to look at the structure of the file.  You can open it directly in Jupyter by clicking the _Home_ icon, then the _from_instructor_ folder, and then the _data_ folder.\n",
        "\n",
        "Within the file, you'll see that it is a dictionary with many items in it.  One of those items is called `entry` and that item is a list of things.  You can tell that because the item name is immediately followed by an opening square bracket, signifying the start of a list.  It's line 11 of the file: `  \"entry\": [`\n",
        "\n",
        "Write a function named `allergy_count(json_file)` that takes as one parameter the name of the JSON file and returns an integer number of entries in that file.  Your function should open the file, read the json into a Python object, and return how many items there are in the list of `entry`s."
      ]
    },
    {
      "cell_type": "code",
      "execution_count": 1,
      "metadata": {
        "id": "Ti2vNV3NGlID"
      },
      "outputs": [],
      "source": [
        "import json\n",
        "ALLERGIES_FILE=\"allergies.json\""
      ]
    },
    {
      "cell_type": "code",
      "execution_count": 2,
      "metadata": {
        "nbgrader": {
          "grade": false,
          "grade_id": "q1-answer",
          "locked": false,
          "schema_version": 1,
          "solution": true
        },
        "id": "tK_MSEn0GlIF"
      },
      "outputs": [],
      "source": [
        "def allergy_count(ALLERGIES_FILE):\n",
        "    with open(ALLERGIES_FILE) as f:\n",
        "        data = json.load(f)\n",
        "        return len(data[\"entry\"])\n"
      ]
    },
    {
      "cell_type": "code",
      "execution_count": 3,
      "metadata": {
        "id": "pygOPNNzGlIF",
        "outputId": "4efa5d81-e3d0-4dc4-d57d-2e203b9aac04",
        "colab": {
          "base_uri": "https://localhost:8080/"
        }
      },
      "outputs": [
        {
          "output_type": "stream",
          "name": "stdout",
          "text": [
            "4\n"
          ]
        }
      ],
      "source": [
        "print (allergy_count(ALLERGIES_FILE))"
      ]
    },
    {
      "cell_type": "code",
      "execution_count": 4,
      "metadata": {
        "nbgrader": {
          "grade": true,
          "grade_id": "q1-tests",
          "locked": true,
          "points": 5,
          "schema_version": 1,
          "solution": false
        },
        "id": "9Bnm_kcOGlIG"
      },
      "outputs": [],
      "source": [
        "assert type(allergy_count(ALLERGIES_FILE)) == int\n",
        "assert allergy_count(ALLERGIES_FILE) == 4"
      ]
    },
    {
      "cell_type": "markdown",
      "metadata": {
        "id": "S2NqYjuMGlIH"
      },
      "source": [
        "### 30.2 Number of Patients\n",
        "\n",
        "If you dig a little bit deaper into this list of allergies, you'll see that each result has a patient associated with it.  Create a funcation called `patient_count(json_file)` that will count how many unique patients we have in this JSON structure.  "
      ]
    },
    {
      "cell_type": "code",
      "execution_count": 5,
      "metadata": {
        "id": "oF8B9YcSGlIH"
      },
      "outputs": [],
      "source": [
        "import json\n",
        "def patient_count(ALLERGIES_FILE):\n",
        "  try:\n",
        "    with open(ALLERGIES_FILE) as f:\n",
        "      data  = json.load(f)\n",
        "\n",
        "      patient_ids = set()\n",
        "      for entry in data[\"entry\"]:\n",
        "        patient_name = entry[\"resource\"][\"patient\"][\"display\"]\n",
        "        patient_ids.add(patient_name)\n",
        "      return len(patient_ids)\n",
        "  except FileNotFoundError:\n",
        "      print(f\"File '{ALLERGIES_FILE}' not found.\")\n",
        "      return None\n",
        "  except json.JSONDecodeError:\n",
        "      print(f\"Error decoding JSON in file '{ALLERGIES_FILE}'.\")\n",
        "      return None"
      ]
    },
    {
      "cell_type": "code",
      "execution_count": 6,
      "metadata": {
        "id": "Rh-kNrLhGlIH",
        "outputId": "838bdfc1-d9db-4fc0-e1b3-b0b19e351e90",
        "colab": {
          "base_uri": "https://localhost:8080/"
        }
      },
      "outputs": [
        {
          "output_type": "execute_result",
          "data": {
            "text/plain": [
              "2"
            ]
          },
          "metadata": {},
          "execution_count": 6
        }
      ],
      "source": [
        "patient_count(ALLERGIES_FILE)"
      ]
    },
    {
      "cell_type": "code",
      "execution_count": 7,
      "metadata": {
        "id": "xEVVCN4aGlII"
      },
      "outputs": [],
      "source": [
        "assert type(patient_count(ALLERGIES_FILE)) == int\n",
        "assert patient_count(ALLERGIES_FILE) == 2"
      ]
    },
    {
      "cell_type": "markdown",
      "metadata": {
        "id": "N1sEVStrGlII"
      },
      "source": [
        "### 30.3 How Many Allergies per Patient\n",
        "\n",
        "Although each entry is a separate allergy, several of them are for the same patient.  Write a function called `allergy_per_patient(json_file)` that counts up how many allergies each patient has.\n"
      ]
    },
    {
      "cell_type": "code",
      "execution_count": 8,
      "metadata": {
        "id": "cNXSxElJGlIJ"
      },
      "outputs": [],
      "source": [
        "import json\n",
        "\n",
        "def allergy_per_patient(ALLERGIES_FILE):\n",
        "  try:\n",
        "    with open(ALLERGIES_FILE) as f:\n",
        "      data = json.load(f)\n",
        "\n",
        "      patient_allergy_count = {}\n",
        "\n",
        "      for entry in data[\"entry\"]:\n",
        "        patient_name = entry[\"resource\"][\"patient\"][\"display\"]\n",
        "\n",
        "        if patient_name in patient_allergy_count:\n",
        "          patient_allergy_count[patient_name] += 1\n",
        "        else:\n",
        "          patient_allergy_count[patient_name] = 1\n",
        "\n",
        "      return patient_allergy_count\n",
        "\n",
        "  except FileNotFoundError:\n",
        "      print(f\"File '{ALLERGIES_FILE}' not found.\")\n",
        "      return None\n",
        "  except json.JSONDecodeError:\n",
        "      print(f\"Error decoding JSON in file '{ALLERGIES_FILE}'.\")\n",
        "      return None"
      ]
    },
    {
      "cell_type": "code",
      "execution_count": 9,
      "metadata": {
        "id": "cpbSAL7CGlIJ",
        "outputId": "da69206f-3759-4415-ca2e-20afa38c2a3b",
        "colab": {
          "base_uri": "https://localhost:8080/"
        }
      },
      "outputs": [
        {
          "output_type": "execute_result",
          "data": {
            "text/plain": [
              "{'Jason Argonaut': 3, 'Paul Boal': 1}"
            ]
          },
          "metadata": {},
          "execution_count": 9
        }
      ],
      "source": [
        "allergy_per_patient(ALLERGIES_FILE)"
      ]
    },
    {
      "cell_type": "code",
      "execution_count": 10,
      "metadata": {
        "id": "PSwieB_KGlIK"
      },
      "outputs": [],
      "source": [
        "assert type(allergy_per_patient(ALLERGIES_FILE)) == dict\n",
        "assert allergy_per_patient(ALLERGIES_FILE) == {'Paul Boal': 1, 'Jason Argonaut': 3}"
      ]
    },
    {
      "cell_type": "markdown",
      "metadata": {
        "nbgrader": {
          "grade": false,
          "grade_id": "q2-question",
          "locked": true,
          "schema_version": 1,
          "solution": false
        },
        "id": "gJPq3c8bGlIK"
      },
      "source": [
        "### 30.4 Patient Allergies and Reaction\n",
        "\n",
        "You'll see in the file that each of the items in the `entry` list have several other attributes including a patient name, substance text representation, and a reaction manifestation.  Create a function named `allergy_list(json_file)` that will create an output list that has patient name, allergy, and reaction for each `entry`.  The actual result you should get will be:\n",
        "\n",
        "```python\n",
        "[['Jason Argonaut', 'PENICILLIN G', 'Hives'],\n",
        " ['Paul Boal', 'PENICILLIN G', 'Bruising'],\n",
        " ['Jason Argonaut', 'SHELLFISH-DERIVED PRODUCTS', 'Itching'],\n",
        " ['Jason Argonaut', 'STRAWBERRY', 'Anaphylaxis']]\n",
        "```\n",
        "\n",
        "You'll notice that the reaction and the manifestation of that action are lists.  You only need to capture the first reaction and the first manifestation of the action.  That is, if there is a list of things, just output the first one."
      ]
    },
    {
      "cell_type": "code",
      "execution_count": 11,
      "metadata": {
        "nbgrader": {
          "grade": false,
          "grade_id": "q2-answer",
          "locked": false,
          "schema_version": 1,
          "solution": true
        },
        "id": "cftCB0InGlIK"
      },
      "outputs": [],
      "source": [
        "import json\n",
        "\n",
        "def allergy_list(ALLERGIES_FILE):\n",
        "  try:\n",
        "      with open(ALLERGIES_FILE) as f:\n",
        "          data = json.load(f)\n",
        "\n",
        "          result = []\n",
        "\n",
        "          for entry in data[\"entry\"]:\n",
        "              patient_name = entry[\"resource\"][\"patient\"][\"display\"]\n",
        "              substance = entry[\"resource\"][\"substance\"][\"text\"]\n",
        "              reactions = entry[\"resource\"][\"reaction\"]\n",
        "              first_reaction = reactions[0][\"manifestation\"][0][\"text\"]\n",
        "              result.append([patient_name, substance, first_reaction])\n",
        "\n",
        "          return result\n",
        "\n",
        "  except FileNotFoundError:\n",
        "      print(f\"File '{ALLERGIES_FILE}' not found.\")\n",
        "      return None\n",
        "  except json.JSONDecodeError:\n",
        "      print(f\"Error decoding JSON in file '{ALLERGIES_FILE}'.\")\n",
        "      return None"
      ]
    },
    {
      "cell_type": "code",
      "execution_count": 12,
      "metadata": {
        "id": "ogThzd47GlIL",
        "outputId": "11f39e93-1119-46a5-e1f2-ba7ec8b45e81",
        "colab": {
          "base_uri": "https://localhost:8080/"
        }
      },
      "outputs": [
        {
          "output_type": "execute_result",
          "data": {
            "text/plain": [
              "[['Jason Argonaut', 'PENICILLIN G', 'Hives'],\n",
              " ['Jason Argonaut', 'SHELLFISH-DERIVED PRODUCTS', 'Itching'],\n",
              " ['Jason Argonaut', 'STRAWBERRY', 'Anaphylaxis'],\n",
              " ['Paul Boal', 'PENICILLIN G', 'Bruising']]"
            ]
          },
          "metadata": {},
          "execution_count": 12
        }
      ],
      "source": [
        "allergy_list(ALLERGIES_FILE)"
      ]
    },
    {
      "cell_type": "code",
      "execution_count": 13,
      "metadata": {
        "nbgrader": {
          "grade": true,
          "grade_id": "q2-tests",
          "locked": true,
          "points": 10,
          "schema_version": 1,
          "solution": false
        },
        "id": "zfSH-CR8GlIL"
      },
      "outputs": [],
      "source": [
        "assert allergy_list(ALLERGIES_FILE) == [['Jason Argonaut', 'PENICILLIN G', 'Hives'],\n",
        " ['Jason Argonaut', 'SHELLFISH-DERIVED PRODUCTS', 'Itching'],\n",
        " ['Jason Argonaut', 'STRAWBERRY', 'Anaphylaxis'],\n",
        " ['Paul Boal', 'PENICILLIN G', 'Bruising']]\n"
      ]
    },
    {
      "cell_type": "markdown",
      "metadata": {
        "nbgrader": {
          "grade": false,
          "grade_id": "q3-question",
          "locked": true,
          "schema_version": 1,
          "solution": false
        },
        "id": "xei_wyEyGlIL"
      },
      "source": [
        "### 30.5 Allergy Reaction\n",
        "\n",
        "Write a function called `allergy_reaction(json_file,patient,substance)` that takes three parameter and returns the reaction that will happen if the patient takes the specified substance.  You can solve this, in part, by calling your `allergy_list` function inside your new `allergy_reaction` function.\n",
        "\n",
        "If the substance is not found in the allergy list, the function should return None."
      ]
    },
    {
      "cell_type": "code",
      "execution_count": 14,
      "metadata": {
        "nbgrader": {
          "grade": false,
          "grade_id": "q3-answer",
          "locked": false,
          "schema_version": 1,
          "solution": true
        },
        "id": "mHurONV0GlIL"
      },
      "outputs": [],
      "source": [
        "import json\n",
        "\n",
        "def allergy_list(ALLERGIES_FILE):\n",
        "  try:\n",
        "      with open(ALLERGIES_FILE) as f:\n",
        "          data = json.load(f)\n",
        "\n",
        "          result = []\n",
        "\n",
        "          for entry in data[\"entry\"]:\n",
        "              patient_name = entry[\"resource\"][\"patient\"][\"display\"]\n",
        "              substance = entry[\"resource\"][\"substance\"][\"text\"]\n",
        "              reactions = entry[\"resource\"][\"reaction\"]\n",
        "              first_reaction = reactions[0][\"manifestation\"][0][\"text\"]\n",
        "              result.append([patient_name, substance, first_reaction])\n",
        "\n",
        "          return result\n",
        "\n",
        "  except FileNotFoundError:\n",
        "      print(f\"File '{ALLERGIES_FILE}' not found.\")\n",
        "      return None\n",
        "  except json.JSONDecodeError:\n",
        "      print(f\"Error decoding JSON in file '{ALLERGIES_FILE}'.\")\n",
        "      return None\n",
        "\n",
        "def allergy_reaction(ALLERGIES_FILE, patient, substance):\n",
        "    allergy_data = allergy_list(ALLERGIES_FILE)\n",
        "\n",
        "    if allergy_data is None:\n",
        "        return None\n",
        "\n",
        "    for entry in allergy_data:\n",
        "      patient_name, allergy_substance, reaction = entry\n",
        "      if patient_name == patient and allergy_substance == substance:\n",
        "        return reaction\n",
        "\n",
        "    return None"
      ]
    },
    {
      "cell_type": "code",
      "execution_count": 15,
      "metadata": {
        "id": "dcW-0lG2GlIM",
        "outputId": "fb7a9f7e-42a3-467c-889c-59d67d6b6417",
        "colab": {
          "base_uri": "https://localhost:8080/",
          "height": 35
        }
      },
      "outputs": [
        {
          "output_type": "execute_result",
          "data": {
            "text/plain": [
              "'Hives'"
            ],
            "application/vnd.google.colaboratory.intrinsic+json": {
              "type": "string"
            }
          },
          "metadata": {},
          "execution_count": 15
        }
      ],
      "source": [
        "allergy_reaction(ALLERGIES_FILE, 'Jason Argonaut', 'PENICILLIN G')"
      ]
    },
    {
      "cell_type": "code",
      "execution_count": 16,
      "metadata": {
        "nbgrader": {
          "grade": true,
          "grade_id": "q3-tests",
          "locked": true,
          "points": 5,
          "schema_version": 1,
          "solution": false
        },
        "id": "8U1IR2WzGlIM"
      },
      "outputs": [],
      "source": [
        "assert allergy_reaction(ALLERGIES_FILE, 'Jason Argonaut', 'PENICILLIN G') == 'Hives'\n",
        "assert allergy_reaction(ALLERGIES_FILE, 'Jason Argonaut', 'SHELLFISH-DERIVED PRODUCTS') == 'Itching'\n",
        "assert allergy_reaction(ALLERGIES_FILE, 'Jason Argonaut', 'STRAWBERRY') == 'Anaphylaxis'\n",
        "assert allergy_reaction(ALLERGIES_FILE, 'Jason Argonaut', 'PENICILLIN') == None\n",
        "assert allergy_reaction(ALLERGIES_FILE, 'Paul Boal', 'PENICILLIN G') == 'Bruising'"
      ]
    },
    {
      "cell_type": "markdown",
      "metadata": {
        "id": "Vs54xeTSGlIM"
      },
      "source": [
        "---\n",
        "\n",
        "## Check your work above\n",
        "\n",
        "If you didn't get them all correct, take a few minutes to think through those that aren't correct.\n",
        "\n",
        "\n",
        "## Submitting Your Work\n",
        "\n",
        "In order to submit your work, you'll need to save this notebook file back to GitHub.  To do that in Google Colab:\n",
        "1. File -> Save a Copy in GitHub\n",
        "2. Make sure your HDS5210 repository is selected\n",
        "3. Make sure the file name includes the week number like this: `week06/week06_assignment_2.ipynb`\n",
        "4. Add a commit message that means something\n",
        "\n",
        "**Be sure week names are lowercase and use a two digit week number!!**\n",
        "\n",
        "**Be sure you use the same file name provided by the instructor!!**\n",
        "\n"
      ]
    }
  ],
  "metadata": {
    "celltoolbar": "Create Assignment",
    "kernelspec": {
      "display_name": "Python 3",
      "language": "python",
      "name": "python3"
    },
    "language_info": {
      "codemirror_mode": {
        "name": "ipython",
        "version": 3
      },
      "file_extension": ".py",
      "mimetype": "text/x-python",
      "name": "python",
      "nbconvert_exporter": "python",
      "pygments_lexer": "ipython3",
      "version": "3.9.16"
    },
    "colab": {
      "provenance": []
    }
  },
  "nbformat": 4,
  "nbformat_minor": 0
}