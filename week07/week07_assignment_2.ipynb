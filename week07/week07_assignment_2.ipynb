{
  "cells": [
    {
      "cell_type": "markdown",
      "metadata": {
        "id": "l26Ae0iCSoKt"
      },
      "source": [
        "# Week 7 Assignment\n",
        "\n",
        "We've been working with different types of data structures in Python (dictionary, list, etc), how those are represented in JSON documents, and how to write code to access specific data elements. In this week's assignment, you will need to create your own JSON document to store information about yourself and the grades you've received from week 1 to week 4 and the week 6 quiz.  That is, everything you should have received a grade for.  Then you'll need to show me you know how to navigate the JSON in that file.\n",
        "\n",
        "Different from what we've done in the past, you do not have to write any functions or include any docstrings.  Just create some JSON and write some code.\n",
        "\n",
        "---"
      ]
    },
    {
      "cell_type": "markdown",
      "metadata": {
        "id": "wFAKg1mISoKx"
      },
      "source": [
        "## 7.1 Create a JSON file\n",
        "\n",
        "Create a JSON file that contains your name, email, year you were born, all of the grades you've received back so far, and a comment about what you thought was most challenging on each of those assignments.  This can be any structure you choose, but make sure it uses a dictionary and a list, and has at least two levels of hierarchy.  That is, it can't just be one big long list."
      ]
    },
    {
      "cell_type": "markdown",
      "source": [],
      "metadata": {
        "id": "JB1eA_l42Zjq"
      }
    },
    {
      "cell_type": "markdown",
      "metadata": {
        "id": "ubVEASnfSoK0"
      },
      "source": [
        "First, explain how your data structure is going to look..."
      ]
    },
    {
      "cell_type": "markdown",
      "metadata": {
        "id": "mvXfabTkSoK0"
      },
      "source": [
        "* The first tier is a JSON dictionary, which includes personal identifying elements such as my name, school email address, and year of birth. The first tier also includes a key, called \"grades\", which calls to the second tier of code. The second tier of code contains a list of dictionaries containing information regarding my assignments, quizzes, and comments reviewing my work so far this semester. Within the dictionaries containing weekly grade information there will be additional keys for each week, grade, and comment."
      ]
    },
    {
      "cell_type": "markdown",
      "metadata": {
        "id": "cznlasdISoK1"
      },
      "source": [
        "Then put the actual JSON you've created inside the multiline string below..."
      ]
    },
    {
      "cell_type": "code",
      "execution_count": 1,
      "metadata": {
        "id": "Vr-CAiroSoK3"
      },
      "outputs": [],
      "source": [
        "hds5210 = \"\"\"\n",
        "{\n",
        "    \"me\": {\n",
        "        \"name\": \"Jakobi Leonard\",\n",
        "        \"email\":\"jakobi.leonard@slu.edu\",\n",
        "        \"birth_year\": \"2001\",\n",
        "        \"grade_information\": [\n",
        "          {\n",
        "            \"week\": 1,\n",
        "            \"grade\": 100,\n",
        "            \"comment\": \"The first week's assignment in this class was relatively straight forward.\"\n",
        "          },\n",
        "          {\n",
        "            \"week\": 2,\n",
        "            \"grade\": 100,\n",
        "            \"comment\": \"During the week 2 assignment, I had some trouble creating a function which converted imperial units and SI units.\"\n",
        "          },\n",
        "          {\n",
        "            \"week\": 3,\n",
        "            \"grade\": 100,\n",
        "            \"comment\": \"The week 3 assingment focused on 'ELSE' and 'IF' statements, which I could confidently grasp after some practice.\"\n",
        "          },\n",
        "          {\n",
        "            \"week\": 4,\n",
        "            \"grade\": 100,\n",
        "            \"comment\": \"In week 4, our assignment focused on lists and dictionaries, which was a little bit more difficult.\"\n",
        "          },\n",
        "          {\n",
        "            \"week\": 6,\n",
        "            \"quiz\": true,\n",
        "            \"grade\": \"not graded\",\n",
        "            \"comment\": \"The quiz taken during week 6 has not yet been graded, but I felt good recalling information that pertinent to the questions. \"\n",
        "          }\n",
        "        ]\n",
        "      }\n",
        "}\n",
        "\"\"\""
      ]
    },
    {
      "cell_type": "markdown",
      "metadata": {
        "id": "W_ktVUv-SoK3"
      },
      "source": [
        "## 7.2 Do something with your JSON\n",
        "\n",
        "Now use Python code to do something with the Json above.  Turn it into English text, but make sure that you use at least one loop to access some dict or list content of your JSON.  Below, I've provided some basic code to read in the string above as JSON and return a Python object.  Your job is to work with that data structure and print out the important information like your name, email, and how you did on each assignment."
      ]
    },
    {
      "cell_type": "code",
      "execution_count": 2,
      "metadata": {
        "id": "3Ou2IE3FSoK3",
        "outputId": "9ea00179-9ed7-41df-cd80-c1404c470e62",
        "colab": {
          "base_uri": "https://localhost:8080/"
        }
      },
      "outputs": [
        {
          "output_type": "stream",
          "name": "stdout",
          "text": [
            "My name is Jakobi Leonard. My Saint Louis University email is jakobi.leonard@slu.edu. Here is a snapshot of my assignments in HDS-5210 so far this semester.\n",
            "My week 1 assignment grade was 100. The first week's assignment in this class was relatively straight forward.\n",
            "My week 2 assignment grade was 100. During the week 2 assignment, I had some trouble creating a function which converted imperial units and SI units.\n",
            "My week 3 assignment grade was 100. The week 3 assingment focused on 'ELSE' and 'IF' statements, which I could confidently grasp after some practice.\n",
            "My week 4 assignment grade was 100. In week 4, our assignment focused on lists and dictionaries, which was a little bit more difficult.\n",
            "In week 6, I took a quiz which was not graded. The quiz taken during week 6 has not yet been graded, but I felt good recalling information that pertinent to the questions. \n"
          ]
        }
      ],
      "source": [
        "import json\n",
        "\n",
        "info = json.loads(hds5210)\n",
        "\n",
        "me = info[\"me\"][\"name\"]\n",
        "email = info[\"me\"][\"email\"]\n",
        "grades = info[\"me\"][\"grade_information\"]\n",
        "week = grades[0][\"week\"]\n",
        "grade = grades[0][\"grade\"]\n",
        "comment = grades[0][\"comment\"]\n",
        "\n",
        "print(f\"My name is {me}. My Saint Louis University email is {email}. Here is a snapshot of my assignments in HDS-5210 so far this semester.\")\n",
        "\n",
        "for info in grades:\n",
        "  if \"quiz\" in info and info[\"quiz\"]:\n",
        "        print(f\"In week {info['week']}, I took a quiz which was {info['grade']}. {info['comment']}\")\n",
        "  else:\n",
        "    print(f\"My week {info['week']} assignment grade was {info['grade']}. {info['comment']}\")\n",
        "\n"
      ]
    },
    {
      "cell_type": "markdown",
      "metadata": {
        "id": "X6I8pBDzSoK4"
      },
      "source": [
        "## 7.3 Reflect\n",
        "\n",
        "Write a paragraph on any reflections you have. Was this hard? Easy?  What parts were most challenging or easiest? What did you like or dislike about the assignment?  Share whatever important thoughts you have abou this assignment."
      ]
    },
    {
      "cell_type": "markdown",
      "metadata": {
        "id": "IAiY4Jq4SoK4"
      },
      "source": [
        "The assignment this week was straightforward. The most challenging aspect was writing a code to create a paragraph that printed all of my information. The easiest task was to create the dictionaries which contained my information. I actually enjoyed writing the paragraph because it allowed for some creative freedom in my code. In this course I would like to continue using dictionaries to assist us in printing/writing code as plain text."
      ]
    },
    {
      "cell_type": "markdown",
      "metadata": {
        "id": "s0LEbQNASoK4"
      },
      "source": [
        "---\n",
        "\n",
        "# Example\n",
        "\n",
        "Below is an example of something similar, but this uses information my and my friend's kids instead of grades."
      ]
    },
    {
      "cell_type": "code",
      "execution_count": 3,
      "metadata": {
        "id": "IzqYrcU9SoK5",
        "outputId": "a7e02b75-1276-4e3f-c401-1d5cf6acb5ff",
        "colab": {
          "base_uri": "https://localhost:8080/"
        }
      },
      "outputs": [
        {
          "output_type": "stream",
          "name": "stdout",
          "text": [
            "Hi, my name is Paul. I've got 3 kids. Their names are Ellie, Ada, Teddy.\n",
            "My friend, Anny has 1 kids. That's fewer than me. Their names are 1\n"
          ]
        }
      ],
      "source": [
        "hds5210 = \"\"\"\n",
        "{\n",
        "    \"me\": {\n",
        "        \"name\": \"Paul\",\n",
        "        \"kids\": [\"Ellie\", \"Ada\", \"Teddy\"]\n",
        "    },\n",
        "    \"friend\": {\n",
        "        \"name\": \"Anny\",\n",
        "        \"kids\": [\"Abby\"]\n",
        "    }\n",
        "}\n",
        "\"\"\"\n",
        "\n",
        "import json\n",
        "\n",
        "info = json.loads(hds5210)\n",
        "\n",
        "me = info[\"me\"][\"name\"]\n",
        "my_kids_count = len(info[\"me\"][\"kids\"])\n",
        "kids_list = \", \".join(info[\"me\"][\"kids\"])\n",
        "friend = info[\"friend\"][\"name\"]\n",
        "friends_kid_count = len(info[\"friend\"][\"kids\"])\n",
        "friend_kids = \", \".join(info[\"friend\"][\"kids\"])\n",
        "compare = \"more\" if friends_kid_count > my_kids_count else \"fewer\"\n",
        "\n",
        "print(f\"Hi, my name is {me}. I've got {my_kids_count} kids. Their names are {kids_list}.\")\n",
        "print(f\"My friend, {friend} has {friends_kid_count} kids. That's {compare} than me. Their names are {friends_kid_count}\")"
      ]
    }
  ],
  "metadata": {
    "kernelspec": {
      "display_name": "Python 3",
      "language": "python",
      "name": "python3"
    },
    "language_info": {
      "codemirror_mode": {
        "name": "ipython",
        "version": 3
      },
      "file_extension": ".py",
      "mimetype": "text/x-python",
      "name": "python",
      "nbconvert_exporter": "python",
      "pygments_lexer": "ipython3",
      "version": "3.9.16"
    },
    "colab": {
      "provenance": []
    }
  },
  "nbformat": 4,
  "nbformat_minor": 0
}