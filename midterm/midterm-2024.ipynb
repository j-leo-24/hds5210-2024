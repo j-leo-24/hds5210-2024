{
  "cells": [
    {
      "cell_type": "markdown",
      "metadata": {
        "id": "plSngoqj_5xM"
      },
      "source": [
        "# HDS5210-2022 Midterm\n",
        "\n",
        "In the midterm, you're going to use all the programming and data management skills you've developed so far to build a risk calculator that pretends to be integrated with a clinical registry.  You'll compute the PRIEST COVID-19 Clinical Severity Score for a series of patients and, based on their risk of an adverse outcome, query a REST web service to find a hospital to transfer them to. The end result of your work will be a list of instructions on where each patient should be discharged given their risk and various characteristics of the patient.\n",
        "\n",
        "Each step in the midterm will build up to form your complete solution.\n",
        "\n",
        "**Make sure you write good docstrings and doctests along the way!!**\n",
        "\n",
        "**The midterm is due at 11:59 PM CST on Thursday October 24.**\n",
        "\n",
        "---"
      ]
    },
    {
      "cell_type": "markdown",
      "metadata": {
        "id": "7sUNdDBC_5xX"
      },
      "source": [
        "## Step 1: Calculate PRIEST Clinical Severity Score\n",
        "\n",
        "This scoring algorithm can be found [here on the MDCalc website](https://www.mdcalc.com/priest-covid-19-clinical-severity-score#evidence).  \n",
        "\n",
        "1. You will need to write a function called **priest()** with the following input parameters.  \n",
        " * Sex (Gender assigned at birth)\n",
        " * Age in years\n",
        " * Respiratory rate in breaths per minute\n",
        " * Oxygen saturation as a percent between 0 and 1\n",
        " * Heart rate in beats per minute\n",
        " * Systolic BP in mmHg\n",
        " * Temperature in degrees C\n",
        " * Alertness as a string description\n",
        " * Inspired Oxygen as as string description\n",
        " * Performance Status as a string description\n",
        "2. The function will need to follow the algorithm provided on the MDCalc website to compute a risk percentage that should be returned as a numeric value between 0 and 1.\n",
        "3. Be sure to use docstring documentation and at least three built-in docstring test cases.\n",
        "4. Assume that the input values that are strings could be any combination of upper or lower case. For example: 'male', 'Male', 'MALE', 'MalE' should all be interpretted by your code as male.\n",
        "5. If any of the inputs are invalid (for example a sex value that is not recognizable as male or female) your code should return None.\n",
        "\n",
        "NOTES:\n",
        "1. In the final step there is a table that translates from **PRIEST Score** to **30-day probability of an outcome** but the last two probabilities are shown as ranges (59-88% and >99%).  Our code needs to output a single number, however. For our code, use the following rule:\n",
        " * If PRIEST score is between 17 and 25, the probability you return should be 0.59\n",
        " * If PRIEST score is greater than or equal to 26, the probability you return should be 0.99\n"
      ]
    },
    {
      "cell_type": "code",
      "execution_count": 16,
      "metadata": {
        "id": "n0Y4k5gz_5xY",
        "outputId": "411a7733-00d9-4d71-e555-10eea4d7688e",
        "colab": {
          "base_uri": "https://localhost:8080/"
        }
      },
      "outputs": [
        {
          "output_type": "stream",
          "name": "stdout",
          "text": [
            "Calculated PRIEST score: 18\n",
            "0.59\n",
            "Calculated PRIEST score: 13\n",
            "0.46\n",
            "Calculated PRIEST score: 4\n",
            "0.03\n"
          ]
        }
      ],
      "source": [
        "def priest(sex, age, respiratory_rate, o2sat, heart_rate, systolic_bp, temp, alertness, inspired_o2, status):\n",
        "  \"\"\"\n",
        "  Calculate the PRIEST Clinical Severity Score for a patient based on input parameters.\n",
        "\n",
        "  Parameters:\n",
        "  - sex (str): The patient's gender assigned at birth ('male' or 'female').\n",
        "  - age (int): The patient's age in years.\n",
        "  - respiratory_rate (int): The patient's respiratory rate in breaths per minute.\n",
        "  - o2sat (float): The patient's oxygen saturation as a percentage between 0 and 1.\n",
        "  - heart_rate (int): The patient's heart rate in beats per minute.\n",
        "  - systolic_bp (int): The patient's systolic blood pressure in mmHg.\n",
        "  - temp (float): The patient's temperature in degrees Celsius.\n",
        "  - alertness (str): The patient's alertness as a string description ('alert', 'confused', or 'not alert').\n",
        "  - inspired_o2 (str): The patient's inspired oxygen as a string description ('Air' or 'Supplemental oxygen').\n",
        "  - status (str): The patient's performance status as a string description ('Unrestricted normal activity', 'Limited strenuous activity, can do light activity', 'Limited activity, can self-care', 'Limited self-care', or 'Bed/chair bound, no self-care').\n",
        "\n",
        "  Returns:\n",
        "  - float: Risk score calculation based on PRIEST score, between 0 and 1. Will return None for invalid inputs.\n",
        "\n",
        "  Note:\n",
        "  - If PRIEST score is between 17 and 25, the probability will be 0.59.\n",
        "  - If PRIEST score is greater than or equal to 26, the probability will be 0.99.\n",
        "  \"\"\"\n",
        "\n",
        "  sex = sex.lower()\n",
        "  if sex not in ['male','female']:\n",
        "    return None\n",
        "\n",
        "  try:\n",
        "    age = int(age)\n",
        "    respiratory_rate = int(respiratory_rate)\n",
        "    o2sat = float(o2sat)\n",
        "    heart_rate = int(heart_rate)\n",
        "    systolic_bp = int(systolic_bp)\n",
        "    temp = float(temp)\n",
        "  except (ValueError, TypeError):\n",
        "    return None\n",
        "\n",
        "  # Intialized PRIEST score\n",
        "  priest = 0\n",
        "\n",
        "  #Calculation of PRIEST score\n",
        "\n",
        "  # Sex\n",
        "  if sex == 'male':\n",
        "    priest += 1\n",
        "\n",
        "  if sex == 'female':\n",
        "    priest += 0\n",
        "\n",
        "  # Age\n",
        "  if 16 <= age <= 49:\n",
        "    priest += 0\n",
        "  elif 50 <= age <= 65:\n",
        "    priest += 2\n",
        "  elif 66<= age <= 80:\n",
        "    priest += 3\n",
        "  elif age >= 81:\n",
        "    priest += 4\n",
        "\n",
        "  # Respiratory rate\n",
        "  if respiratory_rate <= 9:\n",
        "    priest += 3\n",
        "  elif 9 <= respiratory_rate <= 11:\n",
        "    priest += 1\n",
        "  elif 12 <= respiratory_rate <= 20:\n",
        "    priest += 0\n",
        "  elif 21 <= respiratory_rate <= 23:\n",
        "    priest += 2\n",
        "  elif respiratory_rate >= 24:\n",
        "    priest += 3\n",
        "\n",
        "  # Oxygen saturation\n",
        "  if o2sat >= 0.95:\n",
        "    priest += 0\n",
        "  elif 0.94 <= o2sat <= 0.95:\n",
        "    priest += 1\n",
        "  elif 0.92 <= o2sat <= 0.93:\n",
        "    priest += 2\n",
        "  elif o2sat <= 0.92:\n",
        "    priest += 3\n",
        "\n",
        "  # Heart rate\n",
        "  if heart_rate <= 41:\n",
        "    priest += 3\n",
        "  elif 41 <= heart_rate <= 50:\n",
        "    priest += 1\n",
        "  elif 51 <= heart_rate <= 90:\n",
        "    priest += 0\n",
        "  elif 91 <= heart_rate <= 110:\n",
        "    priest += 1\n",
        "  elif 111 <= heart_rate <= 130:\n",
        "    priest += 2\n",
        "  elif heart_rate >= 131:\n",
        "    priest += 3\n",
        "\n",
        "  # Systolic BP\n",
        "  if systolic_bp <= 91:\n",
        "    priest += 3\n",
        "  elif 91 <= systolic_bp <= 100:\n",
        "    priest += 2\n",
        "  elif 101 <= systolic_bp <= 110:\n",
        "    priest += 1\n",
        "  elif 111 <= systolic_bp <= 219:\n",
        "    priest += 0\n",
        "  elif systolic_bp >= 220:\n",
        "    priest += 3\n",
        "\n",
        "  # Temperature\n",
        "  if temp <= 35.1:\n",
        "    priest += 3\n",
        "  elif 35.1 <= temp <= 36.0:\n",
        "    priest += 1\n",
        "  elif 36.1 <= temp <= 38.0:\n",
        "    priest += 0\n",
        "  elif 38.1 <= temp <= 39.0:\n",
        "    priest += 1\n",
        "  elif temp >= 39:\n",
        "    priest += 2\n",
        "\n",
        "\n",
        "  #Alertness\n",
        "  alertness = alertness.lower()\n",
        "  if alertness == 'alert':\n",
        "    priest += 0\n",
        "  elif alertness == 'confused' or alertness == \"not alert\":\n",
        "    priest += 3\n",
        "\n",
        "\n",
        "  #Inspired oxygen\n",
        "  inspired_o2 = inspired_o2.lower()\n",
        "  if inspired_o2 == 'air':\n",
        "    priest += 0\n",
        "  elif inspired_o2 == 'supplemental oxygen':\n",
        "    priest += 2\n",
        "\n",
        "  #Performance status\n",
        "  status = status.lower()\n",
        "  if status == 'unrestricted normal activity':\n",
        "    priest += 0\n",
        "  elif status == 'limited strenuous activity, can do light activity':\n",
        "    priest += 1\n",
        "  elif status == 'limited activity, can self-care':\n",
        "    priest += 2\n",
        "  elif status == 'limited self-care':\n",
        "    priest += 3\n",
        "  elif status == 'bed/chair bound, no self-care':\n",
        "    priest += 4\n",
        "\n",
        "  print(f\"Calculated PRIEST score: {priest}\")\n",
        "\n",
        "  #Risk percentage based on PRIEST score\n",
        "\n",
        "  if priest <= 1:\n",
        "      return 0.01\n",
        "  elif priest == 2 or priest == 3:\n",
        "      return 0.02\n",
        "  elif priest == 4:\n",
        "      return 0.03\n",
        "  elif priest == 5:\n",
        "      return 0.09\n",
        "  elif priest == 6:\n",
        "      return 0.15\n",
        "  elif priest == 7:\n",
        "      return 0.18\n",
        "  elif priest == 8:\n",
        "      return 0.22\n",
        "  elif priest == 9:\n",
        "      return 0.26\n",
        "  elif priest == 10:\n",
        "      return 0.29\n",
        "  elif priest == 11:\n",
        "      return 0.34\n",
        "  elif priest == 12:\n",
        "      return 0.38\n",
        "  elif priest == 13:\n",
        "      return 0.46\n",
        "  elif priest == 14:\n",
        "      return 0.47\n",
        "  elif priest == 15:\n",
        "      return 0.49\n",
        "  elif priest == 16:\n",
        "      return 0.55\n",
        "  elif 17 <= priest <= 25:\n",
        "      return 0.59\n",
        "  elif priest >= 26:\n",
        "      return 0.99\n",
        "if __name__ == \"__main__\":\n",
        "    import doctest\n",
        "    doctest.testmod()\n",
        "\n",
        "print(priest('male', 75, 32, 0.85, 130, 85, 39.5, 'Alert', 'Air', 'limited strenuous activity, can do light activity'))\n",
        "print(priest('FeMale', 63, 24, 0.92, 110, 210, 36.3, 'Confused', 'Supplemental oxygen','limited self-care '))\n",
        "print(priest('MALE', 22, 19, 0.90, 72, 180, 36.5, 'ALERT', 'AIR', 'UNRESCRICTED NORMAL ACTIVITY' ))"
      ]
    },
    {
      "cell_type": "code",
      "execution_count": 17,
      "metadata": {
        "id": "1QweTSUx_5xm",
        "outputId": "406a1736-af66-46bb-ce4d-b597def7bfcc",
        "colab": {
          "base_uri": "https://localhost:8080/"
        }
      },
      "outputs": [
        {
          "output_type": "stream",
          "name": "stdout",
          "text": [
            "Finding tests in NoName\n"
          ]
        }
      ],
      "source": [
        "import doctest\n",
        "doctest.run_docstring_examples(priest, globals(),verbose=True)"
      ]
    },
    {
      "cell_type": "markdown",
      "metadata": {
        "id": "c6-ONETc_5x4"
      },
      "source": [
        "## Part 2: Find a hospital\n",
        "\n",
        "The next thing we have to do is figure out where to send this particular patient.  The guidelines on where to send a patient are based on their age (pediatric, adult, geriatric), sex, and risk percentage.  Luckily, you don't have to implement these rules. I already have. All you have to do is use a REST web service that I've created for you.\n",
        "\n",
        "You'll want to use Python to make a call to my REST web service similar to the example URL below. The first part of the URL will be the same for everyone and every request that you make. What you will need to modify for each of your requests is the information after the question mark.\n",
        "\n",
        "```\n",
        "https://oumdj6oci2.execute-api.us-east-1.amazonaws.com/prd/?age=40&sex=male&risk_pct=0.1\n",
        "```\n",
        "\n",
        "The example above asks my web service where a 40-year old male with a risk of 10% should go.  What the web service will return back is a JSON string containing the information you need.  That JSON will look like this:\n",
        "\n",
        "```json\n",
        "{\n",
        "  \"age\": \"40\",\n",
        "  \"sex\": \"male\",\n",
        "  \"risk\": \"0.1\",\n",
        "  \"hospital\": \"Southwest Hospital and Medical Center\"\n",
        "}\n",
        "```\n",
        "\n",
        "My function is not smart enough to understand `'MALE'` is the same as `'male'`.  You have to send it exactly `'male'` or `'female'`\n",
        "\n",
        "1. Your job is to write a function called **find_hospital()** that takes age, sex, and risk as parameters.\n",
        "2. Your function should call this REST web service using the `requests` module\n",
        "3. Then your function will need to interpret the JSON it gets and return just the name of the hospital\n",
        "4. If anything fails, return None\n",
        "5. Include a good docstring with at least three test cases.\n"
      ]
    },
    {
      "cell_type": "code",
      "execution_count": 30,
      "metadata": {
        "id": "Ac7hR7f8_5x6",
        "outputId": "c08466cd-1876-4a53-accd-10d8b053df25",
        "colab": {
          "base_uri": "https://localhost:8080/"
        }
      },
      "outputs": [
        {
          "output_type": "stream",
          "name": "stdout",
          "text": [
            "Finding tests in NoName\n",
            "Wesley Woods Geriatric Hospital\n",
            "Emory Dunwoody Medical Center\n",
            "Childrens Healthcare of Atlanta at Scottish Rite\n"
          ]
        }
      ],
      "source": [
        "import requests\n",
        "def find_hospital(age, sex, risk_pct):\n",
        "\n",
        "  base_url = \"https://oumdj6oci2.execute-api.us-east-1.amazonaws.com/prd/\"\n",
        "\n",
        "  parameters = {\n",
        "      \"age\": age,\n",
        "      \"sex\": sex,\n",
        "      \"risk_pct\": risk_pct\n",
        "  }\n",
        "\n",
        "  try:\n",
        "    response = requests.get(base_url, params=parameters)\n",
        "\n",
        "    response.raise_for_status ()\n",
        "\n",
        "    data = response.json()\n",
        "\n",
        "    return data.get(\"hospital\")\n",
        "\n",
        "  except (requests.RequestException, ValueError, KeyError):\n",
        "    return None\n",
        "\n",
        "if __name__ == \"__main__\":\n",
        "  import doctest\n",
        "  doctest.run_docstring_examples(find_hospital, globals(), verbose=True)\n",
        "\n",
        "print(find_hospital(75, 'male', 0.59))\n",
        "print(find_hospital(63,\"FeMale\", 0.46))\n",
        "print(find_hospital(17, \"Male\", 0.2))"
      ]
    },
    {
      "cell_type": "code",
      "execution_count": 19,
      "metadata": {
        "id": "2OSOSdIh_5x8",
        "outputId": "974248e5-e232-499f-84a1-245bcf01dfe3",
        "colab": {
          "base_uri": "https://localhost:8080/"
        }
      },
      "outputs": [
        {
          "output_type": "stream",
          "name": "stdout",
          "text": [
            "Finding tests in NoName\n"
          ]
        }
      ],
      "source": [
        "import doctest\n",
        "doctest.run_docstring_examples(find_hospital, globals(),verbose=True)"
      ]
    },
    {
      "cell_type": "markdown",
      "metadata": {
        "id": "-mRPxZV4_5yA"
      },
      "source": [
        "## Part 3: Get the address for that hospital from a JSON file\n",
        "\n",
        "Great! Now we have code to tell us which hospital to send someone to... but we don't know where that hospital is. The next function we need to create is one that looks up the address of that hospital.  All of these hospitals are in Atlanta, Georgia.  We're going to use the list from this webpage to lookup the address for that hospital, based on its name.  https://www.officialusa.com/stateguides/health/hospitals/georgia.html\n",
        "\n",
        "Because we skipped the section about Beautiful Soup and working with HTML, I've converted this information into a JSON document for you.  It's available for you here.  Your code should retrieve this file using the `requests` module.\n",
        "\n",
        "`https://drive.google.com/uc?export=download&id=1fIFD-NkcdiMu941N4GjyMDWxiKsFJBw-`\n",
        "\n",
        "1. You need to create a function called **get_address()** that takes hospital name as a parameter and searches the data from this JSON file for the hospital you want to find.\n",
        "2. Your code will have to load the JSON and return the correct hospital based on name.\n",
        "3. If the hospital name isn't found, the function should return None.\n",
        "4. Be sure to use good docstring documentation and includes at least 3 test cases."
      ]
    },
    {
      "cell_type": "code",
      "execution_count": 44,
      "metadata": {
        "id": "wPgPtn2Q_5yC",
        "outputId": "e1af3db3-cf45-429f-aff7-5faf6e673c03",
        "colab": {
          "base_uri": "https://localhost:8080/"
        }
      },
      "outputs": [
        {
          "output_type": "stream",
          "name": "stdout",
          "text": [
            "Finding tests in NoName\n",
            "None\n"
          ]
        }
      ],
      "source": [
        "import requests\n",
        "import json\n",
        "\n",
        "def get_address(hospital_name):\n",
        "\n",
        "  json_url = \"https://drive.google.com/uc?export=download&id=1fIFD-NkcdiMu941N4GjyMDWxiKsFJBw-\"\n",
        "\n",
        "  try:\n",
        "    response = requests.get(json_url)\n",
        "    response.raise_for_status()\n",
        "    hospital_data = response.json()\n",
        "\n",
        "\n",
        "    if isinstance(hospital_data, list):\n",
        "      for hospital in hospital_data:\n",
        "        if isinstance(hospital, dict):\n",
        "           print(f\"Hospital Name: {hospital.get('name')}\")\n",
        "           if hospital.get(\"name\").strip().lower() == hospital_name.strip().lower():\n",
        "              return hospital.get(\"address\")\n",
        "\n",
        "    return None\n",
        "\n",
        "  except (requests.RequestException, json.JSONDecodeError) as e:\n",
        "        print(f\"Error occurred: {e}\")\n",
        "        return None\n",
        "\n",
        "if __name__ == \"__main__\":\n",
        "  import doctest\n",
        "  doctest.run_docstring_examples(get_address, globals(), verbose=True)\n",
        "\n",
        "print(get_address(\"EMORY UNIVERSITY HOSPITAL\"))"
      ]
    },
    {
      "cell_type": "markdown",
      "metadata": {
        "id": "MRjp7nYQ_5yC"
      },
      "source": [
        "## Part 4: Run the risk calculator on a population\n",
        "\n",
        "At the link below, there is a file called `people.psv`.  It is a pipe-delimited (`|`) file with columns that match the inputs for the PRIEST calculation above.  Your code should use the `requests` module to retrieve the file from this URL.\n",
        "\n",
        "`https://drive.google.com/uc?export=download&id=1fLxJN9YGUqmqExrilxSS8furwUER5HHh`\n",
        "\n",
        "\n",
        "In addition, the file has a patient identifier in the first column.\n",
        "\n",
        "1. Write a function called **process_people()** that takes the file location above as its only parameter. Your Python program should use your code above to process all of these rows, determine the hospital and address, and return a list whose items are a dictionary like this: `{ patient_number: [sex, age, breath, o2sat, heart, systolic, temp, alertness, inspired, status, hospital, address]}`.  Look at the file in Part 5 for what the output looks like.\n",
        "2. Be sure to use good docstrings, but you don't need any tests in your doc strings.  I've provided those for you withe file in Part 5.\n",
        "\n",
        "\n",
        "**NOTE** that when running your code for all the 100 records in the `people.psv` file, it may take a few minutes to complete.  You're making multiple calls to the internet for each record, so that can take a little while.\n"
      ]
    },
    {
      "cell_type": "code",
      "execution_count": null,
      "metadata": {
        "id": "CwueXt79_5yD"
      },
      "outputs": [],
      "source": []
    },
    {
      "cell_type": "markdown",
      "metadata": {
        "id": "jtPeNW9m_5yD"
      },
      "source": [
        "## Part 5: Checking your final results\n",
        "\n",
        "The final step is to check your results.  You should be able to compare your results to the output in `people_results.json` at the link below.  Write some code to check your results.  This does not need to be a function.\n",
        "\n",
        "`https://drive.google.com/uc?export=download&id=1gx1SSC20mO5XL6uYD0mdcM_cL91fcIW5`\n"
      ]
    },
    {
      "cell_type": "code",
      "execution_count": null,
      "metadata": {
        "id": "xxJNFXsn_5yD"
      },
      "outputs": [],
      "source": []
    },
    {
      "cell_type": "markdown",
      "metadata": {
        "id": "N9B4SZSe_5yD"
      },
      "source": [
        "---\n",
        "\n",
        "## Check your work above\n",
        "\n",
        "If you didn't get them all correct, take a few minutes to think through those that aren't correct.\n",
        "\n",
        "\n",
        "## Submitting Your Work\n",
        "\n",
        "Submit your work as usual into a folder named `midterm`"
      ]
    },
    {
      "cell_type": "markdown",
      "metadata": {
        "id": "1d2s7F5p_5yE"
      },
      "source": [
        "---"
      ]
    }
  ],
  "metadata": {
    "kernelspec": {
      "display_name": "Python 3",
      "language": "python",
      "name": "python3"
    },
    "language_info": {
      "codemirror_mode": {
        "name": "ipython",
        "version": 3
      },
      "file_extension": ".py",
      "mimetype": "text/x-python",
      "name": "python",
      "nbconvert_exporter": "python",
      "pygments_lexer": "ipython3",
      "version": "3.9.16"
    },
    "colab": {
      "provenance": []
    }
  },
  "nbformat": 4,
  "nbformat_minor": 0
}